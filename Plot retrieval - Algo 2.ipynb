{
 "cells": [
  {
   "cell_type": "code",
   "execution_count": null,
   "metadata": {},
   "outputs": [],
   "source": [
    "import pandas as pd, numpy as np\n",
    "from sklearn.feature_extraction.text import TfidfVectorizer\n",
    "from sklearn.metrics.pairwise import cosine_similarity\n",
    "from sklearn.feature_extraction.stop_words import ENGLISH_STOP_WORDS\n",
    "import nltk\n",
    "nltk.download('averaged_perceptron_tagger')"
   ]
  },
  {
   "cell_type": "code",
   "execution_count": 2,
   "metadata": {},
   "outputs": [],
   "source": [
    "dataframe = pd.read_csv(\"wiki_movie_plots_deduped.csv\")"
   ]
  },
  {
   "cell_type": "code",
   "execution_count": 3,
   "metadata": {},
   "outputs": [
    {
     "name": "stdout",
     "output_type": "stream",
     "text": [
      "Number of records:\n",
      "34886\n"
     ]
    }
   ],
   "source": [
    "print(\"Number of records:\")\n",
    "print(len(dataframe))"
   ]
  },
  {
   "cell_type": "code",
   "execution_count": 4,
   "metadata": {},
   "outputs": [
    {
     "data": {
      "text/plain": [
       "['Release Year',\n",
       " 'Title',\n",
       " 'Origin/Ethnicity',\n",
       " 'Director',\n",
       " 'Cast',\n",
       " 'Genre',\n",
       " 'Wiki Page',\n",
       " 'Plot']"
      ]
     },
     "execution_count": 4,
     "metadata": {},
     "output_type": "execute_result"
    }
   ],
   "source": [
    "list(dataframe.columns.values)"
   ]
  },
  {
   "cell_type": "code",
   "execution_count": 5,
   "metadata": {},
   "outputs": [],
   "source": [
    "dataframe.columns = ['Release_Year',\n",
    " 'Title',\n",
    " 'Origin_Ethnicity',\n",
    " 'Director',\n",
    " 'Cast',\n",
    " 'Genre',\n",
    " 'Wiki_Page',\n",
    " 'Plot']"
   ]
  },
  {
   "cell_type": "code",
   "execution_count": 6,
   "metadata": {},
   "outputs": [
    {
     "data": {
      "text/plain": [
       "2017"
      ]
     },
     "execution_count": 6,
     "metadata": {},
     "output_type": "execute_result"
    }
   ],
   "source": [
    "max(dataframe['Release_Year'])"
   ]
  },
  {
   "cell_type": "code",
   "execution_count": 7,
   "metadata": {},
   "outputs": [
    {
     "data": {
      "text/plain": [
       "array(['American', 'Australian', 'Bangladeshi', 'British', 'Canadian',\n",
       "       'Chinese', 'Egyptian', 'Hong Kong', 'Filipino', 'Assamese',\n",
       "       'Bengali', 'Bollywood', 'Kannada', 'Malayalam', 'Marathi',\n",
       "       'Punjabi', 'Tamil', 'Telugu', 'Japanese', 'Malaysian', 'Maldivian',\n",
       "       'Russian', 'South_Korean', 'Turkish'], dtype=object)"
      ]
     },
     "execution_count": 7,
     "metadata": {},
     "output_type": "execute_result"
    }
   ],
   "source": [
    "dataframe['Origin_Ethnicity'].unique()"
   ]
  },
  {
   "cell_type": "code",
   "execution_count": 8,
   "metadata": {},
   "outputs": [],
   "source": [
    "# get movies from 1970 and onwards\n",
    "updated_df = dataframe.query('Release_Year >= 1970')\n",
    "\n",
    "# get movies from America, Australia, Britain and Canada\n",
    "updated_df = updated_df.query('Origin_Ethnicity == \"American\" | Origin_Ethnicity == \"Australian\"' + \n",
    "                             '| Origin_Ethnicity == \"British\" | Origin_Ethnicity == \"Canadian\"')"
   ]
  },
  {
   "cell_type": "code",
   "execution_count": 9,
   "metadata": {},
   "outputs": [],
   "source": [
    "updated_df = updated_df.reset_index(drop=True)"
   ]
  },
  {
   "cell_type": "code",
   "execution_count": 10,
   "metadata": {},
   "outputs": [
    {
     "data": {
      "text/plain": [
       "array(['American', 'Australian', 'British', 'Canadian'], dtype=object)"
      ]
     },
     "execution_count": 10,
     "metadata": {},
     "output_type": "execute_result"
    }
   ],
   "source": [
    "updated_df['Origin_Ethnicity'].unique()"
   ]
  },
  {
   "cell_type": "code",
   "execution_count": 11,
   "metadata": {},
   "outputs": [],
   "source": [
    "# 1. get list of all plots\n",
    "list_of_plots = updated_df['Plot'].tolist()"
   ]
  },
  {
   "cell_type": "code",
   "execution_count": 12,
   "metadata": {},
   "outputs": [
    {
     "name": "stdout",
     "output_type": "stream",
     "text": [
      "Number of movie plots:\n",
      "11866\n"
     ]
    }
   ],
   "source": [
    "print(\"Number of movie plots:\")\n",
    "print(len(list_of_plots))"
   ]
  },
  {
   "cell_type": "code",
   "execution_count": 14,
   "metadata": {},
   "outputs": [],
   "source": [
    "#tagged_sentence = nltk.tag.pos_tag(text1.split())\n",
    "#edited_sentence = [word for word,tag in tagged_sentence if tag != 'NNP' and tag != 'NNPS']\n",
    "#new_sentence = ' '.join(edited_sentence)"
   ]
  },
  {
   "cell_type": "code",
   "execution_count": 15,
   "metadata": {},
   "outputs": [
    {
     "name": "stdout",
     "output_type": "stream",
     "text": [
      "0\n",
      "500\n",
      "1000\n",
      "1500\n",
      "2000\n",
      "2500\n",
      "3000\n",
      "3500\n",
      "4000\n",
      "4500\n",
      "5000\n",
      "5500\n",
      "6000\n",
      "6500\n",
      "7000\n",
      "7500\n",
      "8000\n",
      "8500\n",
      "9000\n",
      "9500\n",
      "10000\n",
      "10500\n",
      "11000\n",
      "11500\n"
     ]
    }
   ],
   "source": [
    "# include proper nouns in stopwords, as arguably these are not needed when comparing similarities of\n",
    "# movie plots. Perhaps cities are useful, but names such as Kevin are not good because their inclusion\n",
    "# means that e.g. other movies than Home Alone with a character named Kevin will be deemed similar to\n",
    "# Home Alone, even though the rest of the plot may be completely different.\n",
    "updated_list_of_plots = []\n",
    "for movie_plot_index in range(0, len(list_of_plots)):\n",
    "    \n",
    "    if(movie_plot_index%500 == 0):\n",
    "        print(movie_plot_index)\n",
    "    tagged_text = nltk.tag.pos_tag(list_of_plots[movie_plot_index].split())\n",
    "    edited_text = [word for word,tag in tagged_text if tag != 'NNP' and tag != 'NNPS']\n",
    "    \n",
    "    # update each movie plot to have proper nouns removed\n",
    "    edited_text = ' '.join(edited_text)\n",
    "    updated_list_of_plots.append(edited_text)"
   ]
  },
  {
   "cell_type": "code",
   "execution_count": 16,
   "metadata": {},
   "outputs": [
    {
     "data": {
      "text/plain": [
       "TfidfVectorizer(analyzer='word', binary=False, decode_error='strict',\n",
       "        dtype=<class 'numpy.float64'>, encoding='utf-8', input='content',\n",
       "        lowercase=True, max_df=1.0, max_features=None, min_df=1,\n",
       "        ngram_range=(1, 1), norm='l2', preprocessor=None, smooth_idf=True,\n",
       "        stop_words=['whereas', 'however', 'eleven', 'beyond', 'next', 'via', 'had', 'up', 'whom', 'it', 'their', 'themselves', 'sometime', 'fifteen', 'serious', 'her', 'whereafter', 'became', 'hereby', 'whenever', 'have', 'here', 'its', 'become', 'whatever', 'made', 'two', 'still', 'many', 'eg', 'seem', 'te...on', 'either', 'much', 'under', 'always', 'side', 'nowhere', 'give', 'before', 'nothing', 'hundred'],\n",
       "        strip_accents=None, sublinear_tf=False,\n",
       "        token_pattern='(?u)\\\\b\\\\w\\\\w+\\\\b', tokenizer=None, use_idf=True,\n",
       "        vocabulary=None)"
      ]
     },
     "execution_count": 16,
     "metadata": {},
     "output_type": "execute_result"
    }
   ],
   "source": [
    "# create list of stopwords from the English language\n",
    "stop_words = list(ENGLISH_STOP_WORDS)\n",
    "# create instance of tfidf vectoriser class based on list of stopwords\n",
    "vectoriser = TfidfVectorizer(stop_words=stop_words)\n",
    "# call fit function to tokenise (learn idf) and build vocabulary from corpus\n",
    "vectoriser.fit(updated_list_of_plots)\n",
    "\n",
    "# print vocabulary\n",
    "# print(vectorizer.vocabulary_)"
   ]
  },
  {
   "cell_type": "code",
   "execution_count": 17,
   "metadata": {},
   "outputs": [],
   "source": [
    "# vectorise each plot based on vectoriser made on movie plot set\n",
    "\n",
    "list_of_vectors = []\n",
    "\n",
    "for plot in updated_list_of_plots:\n",
    "    # vectorise text based on vectoriser created earlier\n",
    "    vector = vectoriser.transform([plot])\n",
    "    list_of_vectors.append(vector)\n",
    "    # summarize vectorised vector\n",
    "    # print(vector.shape)\n",
    "    # print(vector.toarray())"
   ]
  },
  {
   "cell_type": "code",
   "execution_count": 18,
   "metadata": {},
   "outputs": [
    {
     "data": {
      "text/plain": [
       "11866"
      ]
     },
     "execution_count": 18,
     "metadata": {},
     "output_type": "execute_result"
    }
   ],
   "source": [
    "len(list_of_vectors)"
   ]
  },
  {
   "cell_type": "code",
   "execution_count": 19,
   "metadata": {},
   "outputs": [],
   "source": [
    "# append list of vectors to dataframe\n",
    "updated_df['vector'] = list_of_vectors"
   ]
  },
  {
   "cell_type": "code",
   "execution_count": 20,
   "metadata": {},
   "outputs": [],
   "source": [
    "# returns the cosine similarity of two vectorised texts\n",
    "def compare_texts(vector1, vector2):\n",
    "    \n",
    "    cosineSimilarities = cosine_similarity(vector1, vector2)\n",
    "    return cosineSimilarities"
   ]
  },
  {
   "cell_type": "code",
   "execution_count": 21,
   "metadata": {},
   "outputs": [],
   "source": [
    "# returns a dataframe with 10 movies most similar to the input movie from the given dataframe\n",
    "# NB: update function to have number of movies to return as an argument \n",
    "def get_top_n_similar_texts(n, vector, dataframe):\n",
    "    \n",
    "    list_of_similarities = []\n",
    "    for index, row in dataframe.iterrows():\n",
    "        similarity_measure = compare_texts(row['vector'], vector)\n",
    "        list_of_similarities.append(similarity_measure)\n",
    "        \n",
    "    # append list of similarities to dataframe\n",
    "    dataframe['similarity'] = list_of_similarities\n",
    "    \n",
    "    # sort dataframe based on similarity measure in descending order\n",
    "    dataframe = dataframe.sort_values('similarity', ascending=False)\n",
    "    \n",
    "    # get top N rows of dataframe\n",
    "    dataframe = dataframe.head(n)\n",
    "    \n",
    "    return dataframe"
   ]
  },
  {
   "cell_type": "code",
   "execution_count": null,
   "metadata": {},
   "outputs": [],
   "source": []
  },
  {
   "cell_type": "code",
   "execution_count": null,
   "metadata": {},
   "outputs": [],
   "source": []
  },
  {
   "cell_type": "code",
   "execution_count": null,
   "metadata": {},
   "outputs": [],
   "source": []
  },
  {
   "cell_type": "code",
   "execution_count": 50,
   "metadata": {},
   "outputs": [
    {
     "data": {
      "text/html": [
       "<div>\n",
       "<style scoped>\n",
       "    .dataframe tbody tr th:only-of-type {\n",
       "        vertical-align: middle;\n",
       "    }\n",
       "\n",
       "    .dataframe tbody tr th {\n",
       "        vertical-align: top;\n",
       "    }\n",
       "\n",
       "    .dataframe thead th {\n",
       "        text-align: right;\n",
       "    }\n",
       "</style>\n",
       "<table border=\"1\" class=\"dataframe\">\n",
       "  <thead>\n",
       "    <tr style=\"text-align: right;\">\n",
       "      <th></th>\n",
       "      <th>Release_Year</th>\n",
       "      <th>Title</th>\n",
       "      <th>Origin_Ethnicity</th>\n",
       "      <th>Director</th>\n",
       "      <th>Cast</th>\n",
       "      <th>Genre</th>\n",
       "      <th>Wiki_Page</th>\n",
       "      <th>Plot</th>\n",
       "      <th>vector</th>\n",
       "    </tr>\n",
       "  </thead>\n",
       "  <tbody>\n",
       "    <tr>\n",
       "      <th>4066</th>\n",
       "      <td>1995</td>\n",
       "      <td>Toy Story</td>\n",
       "      <td>American</td>\n",
       "      <td>John Lasseter</td>\n",
       "      <td>Tim Allen, Tom Hanks (voices)</td>\n",
       "      <td>animated film</td>\n",
       "      <td>https://en.wikipedia.org/wiki/Toy_Story</td>\n",
       "      <td>In a world where toys are living things who pr...</td>\n",
       "      <td>(0, 45892)\\t0.02466060175857681\\n  (0, 45660...</td>\n",
       "    </tr>\n",
       "  </tbody>\n",
       "</table>\n",
       "</div>"
      ],
      "text/plain": [
       "      Release_Year      Title Origin_Ethnicity       Director  \\\n",
       "4066          1995  Toy Story         American  John Lasseter   \n",
       "\n",
       "                               Cast          Genre  \\\n",
       "4066  Tim Allen, Tom Hanks (voices)  animated film   \n",
       "\n",
       "                                    Wiki_Page  \\\n",
       "4066  https://en.wikipedia.org/wiki/Toy_Story   \n",
       "\n",
       "                                                   Plot  \\\n",
       "4066  In a world where toys are living things who pr...   \n",
       "\n",
       "                                                 vector  \n",
       "4066    (0, 45892)\\t0.02466060175857681\\n  (0, 45660...  "
      ]
     },
     "execution_count": 50,
     "metadata": {},
     "output_type": "execute_result"
    }
   ],
   "source": [
    "# Select movie here\n",
    "updated_df.query('Title == \"Toy Story\"')"
   ]
  },
  {
   "cell_type": "code",
   "execution_count": 51,
   "metadata": {},
   "outputs": [],
   "source": [
    "vector_index = 4066\n",
    "vector_to_compare = updated_df['vector'].iloc[vector_index]\n",
    "df_copy = updated_df.copy()\n",
    "similarity_dataframe = get_top_n_similar_texts(10, vector_to_compare, df_copy)"
   ]
  },
  {
   "cell_type": "code",
   "execution_count": 52,
   "metadata": {},
   "outputs": [
    {
     "data": {
      "text/plain": [
       "\"In a world where toys are living things who pretend to be lifeless when humans are present, a group of toys, owned by six-year-old are caught off-guard when birthday party is moved up a week, as his mother, and infant sister are preparing to move the following week. The toys' leader and favorite toy, a pull-string cowboy doll named organizes the other toys, including the shepherdess, the the and into a scouting mission. army men, led by spy on the party, and report the results to the others via baby monitors. The toys are relieved when the party appears to end with none of them having been replaced, but then receives a surprise gift – an electronic toy space ranger action figure named who thinks he is an actual space ranger. impresses the other toys with his various features, and begins to favor him, making feel left out. As prepares for a family outing at his mother allows him to bring one toy. Fearing will choose attempts to trap behind a desk, but ends up accidentally knocking him out a window, and the other toys rebel against by accusing him of knocking out of jealousy. Before they can exact revenge, takes instead and leaves for When the family stops for gas, finds that has hitched a ride on the car as well, and fight, only to find the family has left without them. They manage to make their way to the restaurant by stowing away on a pizza delivery truck, where still thinking he is a real space ranger, despite attempts to convince him otherwise, gets them stuck in a crane game, where they are salvaged by mischievous neighbor, attempts to escape from house, but finally realizing he is a toy after watching a ad, sinks into despondency. plans to launch on a firework rocket, but his plans are delayed by a thunderstorm. tells about the joy he can bring to as a toy, restoring his confidence. The next day, and mutant toy creations rescue just as is about to launch the rocket and scare into no longer abusing toys by coming to life in front of him, and he runs into his house screaming in horror. and then leave house just as and his family drive away toward their new home. The duo tries to make it to the moving truck, but dog, sees them, and gives chase. gets left behind while saving Woody from and tries rescuing him with car, but the other toys, thinking eliminated as well, attack and toss him off the truck. evaded and retrieve and continue after the truck. Upon seeing and together on the other toys realize their mistake, and try to help them get back aboard, but batteries become depleted, stranding them. ignites the rocket on back and manages to throw into the truck before they soar into the air. opens his wings to free himself from the rocket before it explodes, gliding with to land safely into a box in the car, right next to Andy. On at their new house, and stage another reconnaissance mission to prepare for the new toy arrivals. As jokingly asks what might be worse than they discover new gift is a puppy, and the two share a worried smile.\""
      ]
     },
     "execution_count": 52,
     "metadata": {},
     "output_type": "execute_result"
    }
   ],
   "source": [
    "updated_list_of_plots[4066]"
   ]
  },
  {
   "cell_type": "code",
   "execution_count": 53,
   "metadata": {},
   "outputs": [
    {
     "data": {
      "text/html": [
       "<div>\n",
       "<style scoped>\n",
       "    .dataframe tbody tr th:only-of-type {\n",
       "        vertical-align: middle;\n",
       "    }\n",
       "\n",
       "    .dataframe tbody tr th {\n",
       "        vertical-align: top;\n",
       "    }\n",
       "\n",
       "    .dataframe thead th {\n",
       "        text-align: right;\n",
       "    }\n",
       "</style>\n",
       "<table border=\"1\" class=\"dataframe\">\n",
       "  <thead>\n",
       "    <tr style=\"text-align: right;\">\n",
       "      <th></th>\n",
       "      <th>Release_Year</th>\n",
       "      <th>Title</th>\n",
       "      <th>Origin_Ethnicity</th>\n",
       "      <th>Director</th>\n",
       "      <th>Cast</th>\n",
       "      <th>Genre</th>\n",
       "      <th>Wiki_Page</th>\n",
       "      <th>Plot</th>\n",
       "      <th>vector</th>\n",
       "      <th>similarity</th>\n",
       "    </tr>\n",
       "  </thead>\n",
       "  <tbody>\n",
       "    <tr>\n",
       "      <th>4066</th>\n",
       "      <td>1995</td>\n",
       "      <td>Toy Story</td>\n",
       "      <td>American</td>\n",
       "      <td>John Lasseter</td>\n",
       "      <td>Tim Allen, Tom Hanks (voices)</td>\n",
       "      <td>animated film</td>\n",
       "      <td>https://en.wikipedia.org/wiki/Toy_Story</td>\n",
       "      <td>In a world where toys are living things who pr...</td>\n",
       "      <td>(0, 45892)\\t0.02466060175857681\\n  (0, 45660...</td>\n",
       "      <td>[[1.0000000000000007]]</td>\n",
       "    </tr>\n",
       "    <tr>\n",
       "      <th>7435</th>\n",
       "      <td>2010</td>\n",
       "      <td>Toy Story 3</td>\n",
       "      <td>American</td>\n",
       "      <td>Lee Unkrich</td>\n",
       "      <td>Tom Hanks, Tim Allen, Joan Cusack, Ned Beatty,...</td>\n",
       "      <td>family</td>\n",
       "      <td>https://en.wikipedia.org/wiki/Toy_Story_3</td>\n",
       "      <td>Seventeen-year-old Andy[11] is about to leave ...</td>\n",
       "      <td>(0, 45901)\\t0.014525262535757874\\n  (0, 4589...</td>\n",
       "      <td>[[0.5836859967703293]]</td>\n",
       "    </tr>\n",
       "    <tr>\n",
       "      <th>5061</th>\n",
       "      <td>1999</td>\n",
       "      <td>Toy Story 2</td>\n",
       "      <td>American</td>\n",
       "      <td>John Lasseter, Lee Unkrich, Ash Brannon</td>\n",
       "      <td>voices of Tom Hanks, Tim Allen, Annie Potts, D...</td>\n",
       "      <td>animation comedy family</td>\n",
       "      <td>https://en.wikipedia.org/wiki/Toy_Story_2</td>\n",
       "      <td>Andy prepares to go to cowboy camp with Woody,...</td>\n",
       "      <td>(0, 45865)\\t0.04570316590367222\\n  (0, 45654...</td>\n",
       "      <td>[[0.5213547825596632]]</td>\n",
       "    </tr>\n",
       "    <tr>\n",
       "      <th>3404</th>\n",
       "      <td>1992</td>\n",
       "      <td>Toys</td>\n",
       "      <td>American</td>\n",
       "      <td>Barry Levinson</td>\n",
       "      <td>Robin Williams, Joan Cusack, LL Cool J, Robin ...</td>\n",
       "      <td>fantasy</td>\n",
       "      <td>https://en.wikipedia.org/wiki/Toys_(1992_film)</td>\n",
       "      <td>Kenneth Zevo, the owner of the Zevo Toys facto...</td>\n",
       "      <td>(0, 45982)\\t0.021335756140723288\\n  (0, 4561...</td>\n",
       "      <td>[[0.3587091619609773]]</td>\n",
       "    </tr>\n",
       "    <tr>\n",
       "      <th>3382</th>\n",
       "      <td>1992</td>\n",
       "      <td>Silent Night, Deadly Night 5: The Toy Maker</td>\n",
       "      <td>American</td>\n",
       "      <td>Martin Kitrosser</td>\n",
       "      <td>Mickey Rooney</td>\n",
       "      <td>horror</td>\n",
       "      <td>https://en.wikipedia.org/wiki/Silent_Night,_De...</td>\n",
       "      <td>Late one night in December, a young boy named ...</td>\n",
       "      <td>(0, 45982)\\t0.020222505181765518\\n  (0, 4590...</td>\n",
       "      <td>[[0.3550642088768303]]</td>\n",
       "    </tr>\n",
       "    <tr>\n",
       "      <th>877</th>\n",
       "      <td>1977</td>\n",
       "      <td>The Mouse and His Child</td>\n",
       "      <td>American</td>\n",
       "      <td>Chris Swenson</td>\n",
       "      <td>Voices of Cloris Leachman, Peter Ustinov, Andy...</td>\n",
       "      <td>animated, family</td>\n",
       "      <td>https://en.wikipedia.org/wiki/The_Mouse_and_Hi...</td>\n",
       "      <td>The mouse and his child are two parts of a sin...</td>\n",
       "      <td>(0, 45685)\\t0.08791545673340631\\n  (0, 45361...</td>\n",
       "      <td>[[0.3463398244454713]]</td>\n",
       "    </tr>\n",
       "    <tr>\n",
       "      <th>1795</th>\n",
       "      <td>1984</td>\n",
       "      <td>Where the Toys Come From</td>\n",
       "      <td>American</td>\n",
       "      <td>Theodore Thomas</td>\n",
       "      <td>NaN</td>\n",
       "      <td>animation</td>\n",
       "      <td>https://en.wikipedia.org/wiki/Where_the_Toys_C...</td>\n",
       "      <td>It follows the journey of two toys, named Zoom...</td>\n",
       "      <td>(0, 42461)\\t0.1290986204289452\\n  (0, 42318)...</td>\n",
       "      <td>[[0.315318089742874]]</td>\n",
       "    </tr>\n",
       "    <tr>\n",
       "      <th>4849</th>\n",
       "      <td>1998</td>\n",
       "      <td>Small Soldiers</td>\n",
       "      <td>American</td>\n",
       "      <td>Joe Dante</td>\n",
       "      <td>Gregory Smith, Kirsten Dunst, Frank Langella, ...</td>\n",
       "      <td>science fiction, fantasy, action</td>\n",
       "      <td>https://en.wikipedia.org/wiki/Small_Soldiers</td>\n",
       "      <td>Top defense contractor GloboTech Industries ac...</td>\n",
       "      <td>(0, 45793)\\t0.09470121509315362\\n  (0, 45688...</td>\n",
       "      <td>[[0.30474144405920883]]</td>\n",
       "    </tr>\n",
       "    <tr>\n",
       "      <th>2577</th>\n",
       "      <td>1988</td>\n",
       "      <td>Tin Toy</td>\n",
       "      <td>American</td>\n",
       "      <td>John Lasseter</td>\n",
       "      <td>NaN</td>\n",
       "      <td>animated</td>\n",
       "      <td>https://en.wikipedia.org/wiki/Tin_Toy</td>\n",
       "      <td>The film takes place in one room and stars the...</td>\n",
       "      <td>(0, 44691)\\t0.09786724906561985\\n  (0, 44684...</td>\n",
       "      <td>[[0.28649697107258904]]</td>\n",
       "    </tr>\n",
       "    <tr>\n",
       "      <th>2187</th>\n",
       "      <td>1987</td>\n",
       "      <td>Dolls</td>\n",
       "      <td>American</td>\n",
       "      <td>Stuart Gordon</td>\n",
       "      <td>NaN</td>\n",
       "      <td>horror</td>\n",
       "      <td>https://en.wikipedia.org/wiki/Dolls_(1987_film)</td>\n",
       "      <td>A violent thunderstorm strands six people in t...</td>\n",
       "      <td>(0, 45872)\\t0.05065555939875212\\n  (0, 45711...</td>\n",
       "      <td>[[0.25469348252853824]]</td>\n",
       "    </tr>\n",
       "  </tbody>\n",
       "</table>\n",
       "</div>"
      ],
      "text/plain": [
       "      Release_Year                                        Title  \\\n",
       "4066          1995                                    Toy Story   \n",
       "7435          2010                                  Toy Story 3   \n",
       "5061          1999                                  Toy Story 2   \n",
       "3404          1992                                         Toys   \n",
       "3382          1992  Silent Night, Deadly Night 5: The Toy Maker   \n",
       "877           1977                      The Mouse and His Child   \n",
       "1795          1984                     Where the Toys Come From   \n",
       "4849          1998                               Small Soldiers   \n",
       "2577          1988                                      Tin Toy   \n",
       "2187          1987                                        Dolls   \n",
       "\n",
       "     Origin_Ethnicity                                 Director  \\\n",
       "4066         American                            John Lasseter   \n",
       "7435         American                              Lee Unkrich   \n",
       "5061         American  John Lasseter, Lee Unkrich, Ash Brannon   \n",
       "3404         American                           Barry Levinson   \n",
       "3382         American                         Martin Kitrosser   \n",
       "877          American                            Chris Swenson   \n",
       "1795         American                          Theodore Thomas   \n",
       "4849         American                                Joe Dante   \n",
       "2577         American                            John Lasseter   \n",
       "2187         American                            Stuart Gordon   \n",
       "\n",
       "                                                   Cast  \\\n",
       "4066                      Tim Allen, Tom Hanks (voices)   \n",
       "7435  Tom Hanks, Tim Allen, Joan Cusack, Ned Beatty,...   \n",
       "5061  voices of Tom Hanks, Tim Allen, Annie Potts, D...   \n",
       "3404  Robin Williams, Joan Cusack, LL Cool J, Robin ...   \n",
       "3382                                      Mickey Rooney   \n",
       "877   Voices of Cloris Leachman, Peter Ustinov, Andy...   \n",
       "1795                                                NaN   \n",
       "4849  Gregory Smith, Kirsten Dunst, Frank Langella, ...   \n",
       "2577                                                NaN   \n",
       "2187                                                NaN   \n",
       "\n",
       "                                 Genre  \\\n",
       "4066                     animated film   \n",
       "7435                            family   \n",
       "5061           animation comedy family   \n",
       "3404                           fantasy   \n",
       "3382                            horror   \n",
       "877                   animated, family   \n",
       "1795                         animation   \n",
       "4849  science fiction, fantasy, action   \n",
       "2577                          animated   \n",
       "2187                            horror   \n",
       "\n",
       "                                              Wiki_Page  \\\n",
       "4066            https://en.wikipedia.org/wiki/Toy_Story   \n",
       "7435          https://en.wikipedia.org/wiki/Toy_Story_3   \n",
       "5061          https://en.wikipedia.org/wiki/Toy_Story_2   \n",
       "3404     https://en.wikipedia.org/wiki/Toys_(1992_film)   \n",
       "3382  https://en.wikipedia.org/wiki/Silent_Night,_De...   \n",
       "877   https://en.wikipedia.org/wiki/The_Mouse_and_Hi...   \n",
       "1795  https://en.wikipedia.org/wiki/Where_the_Toys_C...   \n",
       "4849       https://en.wikipedia.org/wiki/Small_Soldiers   \n",
       "2577              https://en.wikipedia.org/wiki/Tin_Toy   \n",
       "2187    https://en.wikipedia.org/wiki/Dolls_(1987_film)   \n",
       "\n",
       "                                                   Plot  \\\n",
       "4066  In a world where toys are living things who pr...   \n",
       "7435  Seventeen-year-old Andy[11] is about to leave ...   \n",
       "5061  Andy prepares to go to cowboy camp with Woody,...   \n",
       "3404  Kenneth Zevo, the owner of the Zevo Toys facto...   \n",
       "3382  Late one night in December, a young boy named ...   \n",
       "877   The mouse and his child are two parts of a sin...   \n",
       "1795  It follows the journey of two toys, named Zoom...   \n",
       "4849  Top defense contractor GloboTech Industries ac...   \n",
       "2577  The film takes place in one room and stars the...   \n",
       "2187  A violent thunderstorm strands six people in t...   \n",
       "\n",
       "                                                 vector  \\\n",
       "4066    (0, 45892)\\t0.02466060175857681\\n  (0, 45660...   \n",
       "7435    (0, 45901)\\t0.014525262535757874\\n  (0, 4589...   \n",
       "5061    (0, 45865)\\t0.04570316590367222\\n  (0, 45654...   \n",
       "3404    (0, 45982)\\t0.021335756140723288\\n  (0, 4561...   \n",
       "3382    (0, 45982)\\t0.020222505181765518\\n  (0, 4590...   \n",
       "877     (0, 45685)\\t0.08791545673340631\\n  (0, 45361...   \n",
       "1795    (0, 42461)\\t0.1290986204289452\\n  (0, 42318)...   \n",
       "4849    (0, 45793)\\t0.09470121509315362\\n  (0, 45688...   \n",
       "2577    (0, 44691)\\t0.09786724906561985\\n  (0, 44684...   \n",
       "2187    (0, 45872)\\t0.05065555939875212\\n  (0, 45711...   \n",
       "\n",
       "                   similarity  \n",
       "4066   [[1.0000000000000007]]  \n",
       "7435   [[0.5836859967703293]]  \n",
       "5061   [[0.5213547825596632]]  \n",
       "3404   [[0.3587091619609773]]  \n",
       "3382   [[0.3550642088768303]]  \n",
       "877    [[0.3463398244454713]]  \n",
       "1795    [[0.315318089742874]]  \n",
       "4849  [[0.30474144405920883]]  \n",
       "2577  [[0.28649697107258904]]  \n",
       "2187  [[0.25469348252853824]]  "
      ]
     },
     "execution_count": 53,
     "metadata": {},
     "output_type": "execute_result"
    }
   ],
   "source": [
    "similarity_dataframe"
   ]
  },
  {
   "cell_type": "code",
   "execution_count": null,
   "metadata": {},
   "outputs": [],
   "source": []
  },
  {
   "cell_type": "code",
   "execution_count": null,
   "metadata": {},
   "outputs": [],
   "source": [
    "vector_index = 89\n",
    "vector_to_test = updated_df['vector'].iloc[vector_index]\n",
    "max_cosine = 0.0\n",
    "new_index = 0\n",
    "\n",
    "for index, row in updated_df.iterrows():\n",
    "    similarity = compare_texts(row['vector'], vector_to_test)\n",
    "    if index == vector_index:\n",
    "        continue\n",
    "    if similarity > max_cosine:\n",
    "        max_cosine = similarity\n",
    "        new_index = index"
   ]
  },
  {
   "cell_type": "code",
   "execution_count": null,
   "metadata": {},
   "outputs": [],
   "source": [
    "new_index"
   ]
  },
  {
   "cell_type": "code",
   "execution_count": null,
   "metadata": {},
   "outputs": [],
   "source": [
    "updated_df.iloc[new_index]"
   ]
  },
  {
   "cell_type": "code",
   "execution_count": null,
   "metadata": {},
   "outputs": [],
   "source": [
    "# custom vector\n",
    "custom_plot = \"Child is left home alone during Christmas. Thieves break into his house as his parents are not home and he has to defend himself.\"\n",
    "vector_custom = vectoriser.transform([custom_plot])"
   ]
  },
  {
   "cell_type": "code",
   "execution_count": null,
   "metadata": {},
   "outputs": [],
   "source": [
    "max_cosine = 0.0\n",
    "new_index = 0\n",
    "\n",
    "for index, row in updated_df.iterrows():\n",
    "    similarity = compare_texts(row['vector'], vector_custom)\n",
    "    \n",
    "    if similarity > max_cosine:\n",
    "        max_cosine = similarity\n",
    "        new_index = index"
   ]
  },
  {
   "cell_type": "code",
   "execution_count": null,
   "metadata": {},
   "outputs": [],
   "source": [
    "max_cosine"
   ]
  },
  {
   "cell_type": "code",
   "execution_count": null,
   "metadata": {},
   "outputs": [],
   "source": [
    "updated_df.iloc[new_index]"
   ]
  },
  {
   "cell_type": "code",
   "execution_count": null,
   "metadata": {},
   "outputs": [],
   "source": [
    "# 2. vectorise each text using tfidf and attach list of vectorised texts to dataframe\n",
    "# 3. input a given string (own plot) and vectorise using tfidf\n",
    "# 3. use a for loop to go through each text and get cosine similarity of given string to each text in the dataframe.\n",
    "# Return the most similar plot and its movie details"
   ]
  }
 ],
 "metadata": {
  "kernelspec": {
   "display_name": "Python 3",
   "language": "python",
   "name": "python3"
  },
  "language_info": {
   "codemirror_mode": {
    "name": "ipython",
    "version": 3
   },
   "file_extension": ".py",
   "mimetype": "text/x-python",
   "name": "python",
   "nbconvert_exporter": "python",
   "pygments_lexer": "ipython3",
   "version": "3.7.3"
  }
 },
 "nbformat": 4,
 "nbformat_minor": 2
}
