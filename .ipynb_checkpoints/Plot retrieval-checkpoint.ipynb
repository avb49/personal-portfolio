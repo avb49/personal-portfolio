{
 "cells": [
  {
   "cell_type": "code",
   "execution_count": null,
   "metadata": {},
   "outputs": [],
   "source": [
    "import pandas as pd, numpy as np\n",
    "from sklearn.feature_extraction.text import TfidfVectorizer\n",
    "from sklearn.metrics.pairwise import cosine_similarity\n",
    "from sklearn.feature_extraction.stop_words import ENGLISH_STOP_WORDS\n",
    "import nltk\n",
    "nltk.download('averaged_perceptron_tagger')"
   ]
  },
  {
   "cell_type": "code",
   "execution_count": 2,
   "metadata": {},
   "outputs": [],
   "source": [
    "dataframe = pd.read_csv(\"wiki_movie_plots_deduped.csv\")"
   ]
  },
  {
   "cell_type": "code",
   "execution_count": 3,
   "metadata": {},
   "outputs": [
    {
     "name": "stdout",
     "output_type": "stream",
     "text": [
      "Number of records:\n",
      "34886\n"
     ]
    }
   ],
   "source": [
    "print(\"Number of records:\")\n",
    "print(len(dataframe))"
   ]
  },
  {
   "cell_type": "code",
   "execution_count": 4,
   "metadata": {},
   "outputs": [
    {
     "data": {
      "text/plain": [
       "['Release Year',\n",
       " 'Title',\n",
       " 'Origin/Ethnicity',\n",
       " 'Director',\n",
       " 'Cast',\n",
       " 'Genre',\n",
       " 'Wiki Page',\n",
       " 'Plot']"
      ]
     },
     "execution_count": 4,
     "metadata": {},
     "output_type": "execute_result"
    }
   ],
   "source": [
    "list(dataframe.columns.values)"
   ]
  },
  {
   "cell_type": "code",
   "execution_count": 5,
   "metadata": {},
   "outputs": [],
   "source": [
    "dataframe.columns = ['Release_Year',\n",
    " 'Title',\n",
    " 'Origin_Ethnicity',\n",
    " 'Director',\n",
    " 'Cast',\n",
    " 'Genre',\n",
    " 'Wiki_Page',\n",
    " 'Plot']"
   ]
  },
  {
   "cell_type": "code",
   "execution_count": 6,
   "metadata": {},
   "outputs": [
    {
     "data": {
      "text/plain": [
       "2017"
      ]
     },
     "execution_count": 6,
     "metadata": {},
     "output_type": "execute_result"
    }
   ],
   "source": [
    "max(dataframe['Release_Year'])"
   ]
  },
  {
   "cell_type": "code",
   "execution_count": 7,
   "metadata": {},
   "outputs": [
    {
     "data": {
      "text/plain": [
       "array(['American', 'Australian', 'Bangladeshi', 'British', 'Canadian',\n",
       "       'Chinese', 'Egyptian', 'Hong Kong', 'Filipino', 'Assamese',\n",
       "       'Bengali', 'Bollywood', 'Kannada', 'Malayalam', 'Marathi',\n",
       "       'Punjabi', 'Tamil', 'Telugu', 'Japanese', 'Malaysian', 'Maldivian',\n",
       "       'Russian', 'South_Korean', 'Turkish'], dtype=object)"
      ]
     },
     "execution_count": 7,
     "metadata": {},
     "output_type": "execute_result"
    }
   ],
   "source": [
    "dataframe['Origin_Ethnicity'].unique()"
   ]
  },
  {
   "cell_type": "code",
   "execution_count": 8,
   "metadata": {},
   "outputs": [],
   "source": [
    "# get movies from 1970 and onwards\n",
    "updated_df = dataframe.query('Release_Year >= 1970')\n",
    "\n",
    "# get movies from America, Australia, Britain and Canada\n",
    "updated_df = updated_df.query('Origin_Ethnicity == \"American\" | Origin_Ethnicity == \"Australian\"' + \n",
    "                             '| Origin_Ethnicity == \"British\" | Origin_Ethnicity == \"Canadian\"')"
   ]
  },
  {
   "cell_type": "code",
   "execution_count": 9,
   "metadata": {},
   "outputs": [],
   "source": [
    "updated_df = updated_df.reset_index(drop=True)"
   ]
  },
  {
   "cell_type": "code",
   "execution_count": 10,
   "metadata": {},
   "outputs": [
    {
     "data": {
      "text/plain": [
       "array(['American', 'Australian', 'British', 'Canadian'], dtype=object)"
      ]
     },
     "execution_count": 10,
     "metadata": {},
     "output_type": "execute_result"
    }
   ],
   "source": [
    "updated_df['Origin_Ethnicity'].unique()"
   ]
  },
  {
   "cell_type": "code",
   "execution_count": 11,
   "metadata": {},
   "outputs": [],
   "source": [
    "# 1. get list of all plots\n",
    "list_of_plots = updated_df['Plot'].tolist()"
   ]
  },
  {
   "cell_type": "code",
   "execution_count": 12,
   "metadata": {},
   "outputs": [
    {
     "name": "stdout",
     "output_type": "stream",
     "text": [
      "Number of movie plots:\n",
      "11866\n"
     ]
    }
   ],
   "source": [
    "print(\"Number of movie plots:\")\n",
    "print(len(list_of_plots))"
   ]
  },
  {
   "cell_type": "code",
   "execution_count": 14,
   "metadata": {},
   "outputs": [],
   "source": [
    "#tagged_sentence = nltk.tag.pos_tag(text1.split())\n",
    "#edited_sentence = [word for word,tag in tagged_sentence if tag != 'NNP' and tag != 'NNPS']\n",
    "#new_sentence = ' '.join(edited_sentence)"
   ]
  },
  {
   "cell_type": "code",
   "execution_count": 15,
   "metadata": {},
   "outputs": [
    {
     "name": "stdout",
     "output_type": "stream",
     "text": [
      "0\n",
      "500\n",
      "1000\n",
      "1500\n",
      "2000\n",
      "2500\n",
      "3000\n",
      "3500\n",
      "4000\n",
      "4500\n",
      "5000\n",
      "5500\n",
      "6000\n",
      "6500\n",
      "7000\n",
      "7500\n",
      "8000\n",
      "8500\n",
      "9000\n",
      "9500\n",
      "10000\n",
      "10500\n",
      "11000\n",
      "11500\n"
     ]
    }
   ],
   "source": [
    "# include proper nouns in stopwords, as arguably these are not needed when comparing similarities of\n",
    "# movie plots. Perhaps cities are useful, but names such as Kevin are not good because their inclusion\n",
    "# means that e.g. other movies than Home Alone with a character named Kevin will be deemed similar to\n",
    "# Home Alone, even though the rest of the plot may be completely different.\n",
    "updated_list_of_plots = []\n",
    "for movie_plot_index in range(0, len(list_of_plots)):\n",
    "    \n",
    "    if(movie_plot_index%500 == 0):\n",
    "        print(movie_plot_index)\n",
    "    tagged_text = nltk.tag.pos_tag(list_of_plots[movie_plot_index].split())\n",
    "    edited_text = [word for word,tag in tagged_text if tag != 'NNP' and tag != 'NNPS']\n",
    "    \n",
    "    # update each movie plot to have proper nouns removed\n",
    "    edited_text = ' '.join(edited_text)\n",
    "    updated_list_of_plots.append(edited_text)"
   ]
  },
  {
   "cell_type": "code",
   "execution_count": 16,
   "metadata": {},
   "outputs": [
    {
     "data": {
      "text/plain": [
       "TfidfVectorizer(analyzer='word', binary=False, decode_error='strict',\n",
       "        dtype=<class 'numpy.float64'>, encoding='utf-8', input='content',\n",
       "        lowercase=True, max_df=1.0, max_features=None, min_df=1,\n",
       "        ngram_range=(1, 1), norm='l2', preprocessor=None, smooth_idf=True,\n",
       "        stop_words=['whereas', 'however', 'eleven', 'beyond', 'next', 'via', 'had', 'up', 'whom', 'it', 'their', 'themselves', 'sometime', 'fifteen', 'serious', 'her', 'whereafter', 'became', 'hereby', 'whenever', 'have', 'here', 'its', 'become', 'whatever', 'made', 'two', 'still', 'many', 'eg', 'seem', 'te...on', 'either', 'much', 'under', 'always', 'side', 'nowhere', 'give', 'before', 'nothing', 'hundred'],\n",
       "        strip_accents=None, sublinear_tf=False,\n",
       "        token_pattern='(?u)\\\\b\\\\w\\\\w+\\\\b', tokenizer=None, use_idf=True,\n",
       "        vocabulary=None)"
      ]
     },
     "execution_count": 16,
     "metadata": {},
     "output_type": "execute_result"
    }
   ],
   "source": [
    "# create list of stopwords from the English language\n",
    "stop_words = list(ENGLISH_STOP_WORDS)\n",
    "# create instance of tfidf vectoriser class based on list of stopwords\n",
    "vectoriser = TfidfVectorizer(stop_words=stop_words)\n",
    "# call fit function to tokenise (learn idf) and build vocabulary from corpus\n",
    "vectoriser.fit(updated_list_of_plots)\n",
    "\n",
    "# print vocabulary\n",
    "# print(vectorizer.vocabulary_)"
   ]
  },
  {
   "cell_type": "code",
   "execution_count": 17,
   "metadata": {},
   "outputs": [],
   "source": [
    "# vectorise each plot based on vectoriser made on movie plot set\n",
    "\n",
    "list_of_vectors = []\n",
    "\n",
    "for plot in updated_list_of_plots:\n",
    "    # vectorise text based on vectoriser created earlier\n",
    "    vector = vectoriser.transform([plot])\n",
    "    list_of_vectors.append(vector)\n",
    "    # summarize vectorised vector\n",
    "    # print(vector.shape)\n",
    "    # print(vector.toarray())"
   ]
  },
  {
   "cell_type": "code",
   "execution_count": 18,
   "metadata": {},
   "outputs": [
    {
     "data": {
      "text/plain": [
       "11866"
      ]
     },
     "execution_count": 18,
     "metadata": {},
     "output_type": "execute_result"
    }
   ],
   "source": [
    "len(list_of_vectors)"
   ]
  },
  {
   "cell_type": "code",
   "execution_count": 19,
   "metadata": {},
   "outputs": [],
   "source": [
    "# append list of vectors to dataframe\n",
    "updated_df['vector'] = list_of_vectors"
   ]
  },
  {
   "cell_type": "code",
   "execution_count": 20,
   "metadata": {},
   "outputs": [],
   "source": [
    "# returns the cosine similarity of two vectorised texts\n",
    "def compare_texts(vector1, vector2):\n",
    "    \n",
    "    cosineSimilarities = cosine_similarity(vector1, vector2)\n",
    "    return cosineSimilarities"
   ]
  },
  {
   "cell_type": "code",
   "execution_count": 21,
   "metadata": {},
   "outputs": [],
   "source": [
    "# returns a dataframe with 10 movies most similar to the input movie from the given dataframe\n",
    "# NB: update function to have number of movies to return as an argument \n",
    "def get_top_n_similar_texts(n, vector, dataframe):\n",
    "    \n",
    "    list_of_similarities = []\n",
    "    for index, row in dataframe.iterrows():\n",
    "        similarity_measure = compare_texts(row['vector'], vector)\n",
    "        list_of_similarities.append(similarity_measure)\n",
    "        \n",
    "    # append list of similarities to dataframe\n",
    "    dataframe['similarity'] = list_of_similarities\n",
    "    \n",
    "    # sort dataframe based on similarity measure in descending order\n",
    "    dataframe = dataframe.sort_values('similarity', ascending=False)\n",
    "    \n",
    "    # get top N rows of dataframe\n",
    "    dataframe = dataframe.head(n)\n",
    "    \n",
    "    return dataframe"
   ]
  },
  {
   "cell_type": "code",
   "execution_count": null,
   "metadata": {},
   "outputs": [],
   "source": []
  },
  {
   "cell_type": "code",
   "execution_count": null,
   "metadata": {},
   "outputs": [],
   "source": []
  },
  {
   "cell_type": "code",
   "execution_count": null,
   "metadata": {},
   "outputs": [],
   "source": []
  },
  {
   "cell_type": "code",
   "execution_count": 68,
   "metadata": {},
   "outputs": [
    {
     "data": {
      "text/html": [
       "<div>\n",
       "<style scoped>\n",
       "    .dataframe tbody tr th:only-of-type {\n",
       "        vertical-align: middle;\n",
       "    }\n",
       "\n",
       "    .dataframe tbody tr th {\n",
       "        vertical-align: top;\n",
       "    }\n",
       "\n",
       "    .dataframe thead th {\n",
       "        text-align: right;\n",
       "    }\n",
       "</style>\n",
       "<table border=\"1\" class=\"dataframe\">\n",
       "  <thead>\n",
       "    <tr style=\"text-align: right;\">\n",
       "      <th></th>\n",
       "      <th>Release_Year</th>\n",
       "      <th>Title</th>\n",
       "      <th>Origin_Ethnicity</th>\n",
       "      <th>Director</th>\n",
       "      <th>Cast</th>\n",
       "      <th>Genre</th>\n",
       "      <th>Wiki_Page</th>\n",
       "      <th>Plot</th>\n",
       "      <th>vector</th>\n",
       "    </tr>\n",
       "  </thead>\n",
       "  <tbody>\n",
       "    <tr>\n",
       "      <th>2913</th>\n",
       "      <td>1990</td>\n",
       "      <td>Home Alone</td>\n",
       "      <td>American</td>\n",
       "      <td>Chris Columbus</td>\n",
       "      <td>Macaulay Culkin, Joe Pesci, Daniel Stern, John...</td>\n",
       "      <td>comedy, family</td>\n",
       "      <td>https://en.wikipedia.org/wiki/Home_Alone</td>\n",
       "      <td>The McCallister family is preparing to spend C...</td>\n",
       "      <td>(0, 45985)\\t0.06866099428996186\\n  (0, 45892...</td>\n",
       "    </tr>\n",
       "  </tbody>\n",
       "</table>\n",
       "</div>"
      ],
      "text/plain": [
       "      Release_Year       Title Origin_Ethnicity        Director  \\\n",
       "2913          1990  Home Alone         American  Chris Columbus   \n",
       "\n",
       "                                                   Cast           Genre  \\\n",
       "2913  Macaulay Culkin, Joe Pesci, Daniel Stern, John...  comedy, family   \n",
       "\n",
       "                                     Wiki_Page  \\\n",
       "2913  https://en.wikipedia.org/wiki/Home_Alone   \n",
       "\n",
       "                                                   Plot  \\\n",
       "2913  The McCallister family is preparing to spend C...   \n",
       "\n",
       "                                                 vector  \n",
       "2913    (0, 45985)\\t0.06866099428996186\\n  (0, 45892...  "
      ]
     },
     "execution_count": 68,
     "metadata": {},
     "output_type": "execute_result"
    }
   ],
   "source": [
    "# Select movie here\n",
    "updated_df.query('Title == \"Home Alone\"')"
   ]
  },
  {
   "cell_type": "code",
   "execution_count": 69,
   "metadata": {},
   "outputs": [],
   "source": [
    "vector_index = 2913\n",
    "vector_to_compare = updated_df['vector'].iloc[vector_index]\n",
    "df_copy = updated_df.copy()\n",
    "similarity_dataframe = get_top_n_similar_texts(20, vector_to_compare, df_copy)"
   ]
  },
  {
   "cell_type": "code",
   "execution_count": 70,
   "metadata": {},
   "outputs": [
    {
     "data": {
      "text/plain": [
       "'The family is preparing to spend in gathering at and home outside of on the night before their departure. and youngest son, eight-year-old is being ridiculed by his siblings and cousins. fight with his older brother, results in getting sent to the third floor of the house for punishment, where he wishes that his family would disappear. During the night, heavy winds cause damage to power lines, which causes a temporary power outage and resets the alarm clocks, causing the entire family to oversleep. In the confusion and rush to get to the airport, is accidentally left behind. wakes up to find the house empty and, thinking his wish has come true, is overjoyed with his newfound freedom. soon becomes frightened by his next door neighbor, who is rumored to have murdered his family with a snow shovel in 1958; as well as the and a pair of burglars who have been breaking into other vacant houses in the neighborhood and have targeted the house. tricks the pair into thinking his whole family is home, forcing them to put their plans on hold. discovers mid-flight that is missing and, upon arrival in the family discovers that all flights for the next two days are booked. and the rest of the family go to his brother apartment in the city while manages to get a flight back to the only to get as far as She attempts to book a flight to but again, everything is booked. Unable to accept this, is overheard by the lead member of a traveling polka band, who offers to let her travel with them to on their way to in a moving van, which she graciously accepts. and realize that is home alone, and on overhears them discussing plans to break into his house that night. goes to church and watches a choir perform. He meets who sits with and they briefly speak; he learns that is actually a nice man and that the rumors about him are false. He points out his granddaughter in the choir, whom he never gets to meet as he and his son are estranged and have not been on speaking terms for some time. suggests that he try to reconcile with his son. returns home and rigs the house with numerous booby traps. and break in, spring the traps, and suffer various injuries. While the duo pursues around the house, he calls the police and flees the house, luring the duo into a neighboring vacant home. and manage to catch him and discuss how they will get their revenge, but sneaks in and knocks them unconscious with his snow shovel before they can harm The police arrive and arrest and having identified all the houses they burgled due to the latter\\'s habit of flooding them. On is disappointed to find that his family is still gone. He then hears enter the house and call for him; they reconcile and are soon joined by the rest of the who waited in until they could get a direct flight to keeps silent about his encounter with and although finds missing gold tooth. then observes reuniting with his son and his family. notices and the pair wave to each other before and his family go inside his house. suddenly calls out, \"Kevin, what did you do to my room?!\" at which point runs off.'"
      ]
     },
     "execution_count": 70,
     "metadata": {},
     "output_type": "execute_result"
    }
   ],
   "source": [
    "updated_list_of_plots[2913]"
   ]
  },
  {
   "cell_type": "code",
   "execution_count": 71,
   "metadata": {},
   "outputs": [
    {
     "data": {
      "text/html": [
       "<div>\n",
       "<style scoped>\n",
       "    .dataframe tbody tr th:only-of-type {\n",
       "        vertical-align: middle;\n",
       "    }\n",
       "\n",
       "    .dataframe tbody tr th {\n",
       "        vertical-align: top;\n",
       "    }\n",
       "\n",
       "    .dataframe thead th {\n",
       "        text-align: right;\n",
       "    }\n",
       "</style>\n",
       "<table border=\"1\" class=\"dataframe\">\n",
       "  <thead>\n",
       "    <tr style=\"text-align: right;\">\n",
       "      <th></th>\n",
       "      <th>Release_Year</th>\n",
       "      <th>Title</th>\n",
       "      <th>Origin_Ethnicity</th>\n",
       "      <th>Director</th>\n",
       "      <th>Cast</th>\n",
       "      <th>Genre</th>\n",
       "      <th>Wiki_Page</th>\n",
       "      <th>Plot</th>\n",
       "      <th>vector</th>\n",
       "      <th>similarity</th>\n",
       "    </tr>\n",
       "  </thead>\n",
       "  <tbody>\n",
       "    <tr>\n",
       "      <th>2913</th>\n",
       "      <td>1990</td>\n",
       "      <td>Home Alone</td>\n",
       "      <td>American</td>\n",
       "      <td>Chris Columbus</td>\n",
       "      <td>Macaulay Culkin, Joe Pesci, Daniel Stern, John...</td>\n",
       "      <td>comedy, family</td>\n",
       "      <td>https://en.wikipedia.org/wiki/Home_Alone</td>\n",
       "      <td>The McCallister family is preparing to spend C...</td>\n",
       "      <td>(0, 45985)\\t0.06866099428996186\\n  (0, 45892...</td>\n",
       "      <td>[[1.0000000000000002]]</td>\n",
       "    </tr>\n",
       "    <tr>\n",
       "      <th>3294</th>\n",
       "      <td>1992</td>\n",
       "      <td>Home Alone 2: Lost in New York</td>\n",
       "      <td>American</td>\n",
       "      <td>Chris Columbus</td>\n",
       "      <td>Macaulay Culkin, Joe Pesci, Daniel Stern</td>\n",
       "      <td>comedy</td>\n",
       "      <td>https://en.wikipedia.org/wiki/Home_Alone_2:_Lo...</td>\n",
       "      <td>In Chicago, the McCallister family is preparin...</td>\n",
       "      <td>(0, 45985)\\t0.0501963397889804\\n  (0, 45527)...</td>\n",
       "      <td>[[0.20610985168003237]]</td>\n",
       "    </tr>\n",
       "    <tr>\n",
       "      <th>5740</th>\n",
       "      <td>2003</td>\n",
       "      <td>The Fighting Temptations</td>\n",
       "      <td>American</td>\n",
       "      <td>Jonathan Lynn</td>\n",
       "      <td>Cuba Gooding, Jr., Beyoncé Knowles</td>\n",
       "      <td>musical, comedy</td>\n",
       "      <td>https://en.wikipedia.org/wiki/The_Fighting_Tem...</td>\n",
       "      <td>In the year 1980, a young boy named Darrin Hil...</td>\n",
       "      <td>(0, 45982)\\t0.014287647406734827\\n  (0, 4590...</td>\n",
       "      <td>[[0.1900843644244443]]</td>\n",
       "    </tr>\n",
       "    <tr>\n",
       "      <th>2318</th>\n",
       "      <td>1987</td>\n",
       "      <td>Sorority House Massacre</td>\n",
       "      <td>American</td>\n",
       "      <td>Carol Frank</td>\n",
       "      <td>Angela O'Neill, Wendy Martel</td>\n",
       "      <td>slasher</td>\n",
       "      <td>https://en.wikipedia.org/wiki/Sorority_House_M...</td>\n",
       "      <td>When Beth (Angela O'Neill) is a little girl, h...</td>\n",
       "      <td>(0, 45983)\\t0.0497262938698472\\n  (0, 45901)...</td>\n",
       "      <td>[[0.18102913784163527]]</td>\n",
       "    </tr>\n",
       "    <tr>\n",
       "      <th>10707</th>\n",
       "      <td>2012</td>\n",
       "      <td>Song for Marion</td>\n",
       "      <td>British</td>\n",
       "      <td>Director: Paul Andrew Williams</td>\n",
       "      <td>Director: Paul Andrew Williams\\r\\nCast: Terenc...</td>\n",
       "      <td>unknown</td>\n",
       "      <td>https://en.wikipedia.org/wiki/Song_for_Marion</td>\n",
       "      <td>Arthur Harris is the grumpy husband of Marion,...</td>\n",
       "      <td>(0, 45982)\\t0.024556378539595948\\n  (0, 4493...</td>\n",
       "      <td>[[0.1760573768701867]]</td>\n",
       "    </tr>\n",
       "    <tr>\n",
       "      <th>3055</th>\n",
       "      <td>1991</td>\n",
       "      <td>The Addams Family</td>\n",
       "      <td>American</td>\n",
       "      <td>Barry Sonnenfeld</td>\n",
       "      <td>Anjelica Huston, Raúl Juliá, Christopher Lloyd...</td>\n",
       "      <td>comedy</td>\n",
       "      <td>https://en.wikipedia.org/wiki/The_Addams_Famil...</td>\n",
       "      <td>Gomez Addams laments the 25-year absence of hi...</td>\n",
       "      <td>(0, 45901)\\t0.026003663800794104\\n  (0, 4589...</td>\n",
       "      <td>[[0.17477861666273023]]</td>\n",
       "    </tr>\n",
       "    <tr>\n",
       "      <th>7794</th>\n",
       "      <td>2012</td>\n",
       "      <td>Joyful Noise</td>\n",
       "      <td>American</td>\n",
       "      <td>Todd Graff</td>\n",
       "      <td>Queen Latifah, Dolly Parton, Keke Palmer, Jere...</td>\n",
       "      <td>comedy, musical</td>\n",
       "      <td>https://en.wikipedia.org/wiki/Joyful_Noise_(film)</td>\n",
       "      <td>After the untimely death of a small-town churc...</td>\n",
       "      <td>(0, 45982)\\t0.01572768581884033\\n  (0, 45901...</td>\n",
       "      <td>[[0.1732335085322568]]</td>\n",
       "    </tr>\n",
       "    <tr>\n",
       "      <th>8461</th>\n",
       "      <td>2015</td>\n",
       "      <td>Monkey Kingdom</td>\n",
       "      <td>American</td>\n",
       "      <td>Mark Linfield Alastair Fothergill</td>\n",
       "      <td>Tina Fey</td>\n",
       "      <td>documentary</td>\n",
       "      <td>https://en.wikipedia.org/wiki/Monkey_Kingdom</td>\n",
       "      <td>Maya is a toque macaque whose world is changed...</td>\n",
       "      <td>(0, 45642)\\t0.07970125257120139\\n  (0, 45453...</td>\n",
       "      <td>[[0.1727374855569751]]</td>\n",
       "    </tr>\n",
       "    <tr>\n",
       "      <th>6082</th>\n",
       "      <td>2005</td>\n",
       "      <td>The Amityville Horror</td>\n",
       "      <td>American</td>\n",
       "      <td>Andrew Douglas</td>\n",
       "      <td>Ryan Reynolds, Melissa George, Jesse James, Ji...</td>\n",
       "      <td>horror</td>\n",
       "      <td>https://en.wikipedia.org/wiki/The_Amityville_H...</td>\n",
       "      <td>In 1974, Ronald DeFeo Jr. murdered his family ...</td>\n",
       "      <td>(0, 45892)\\t0.03297264626786979\\n  (0, 44932...</td>\n",
       "      <td>[[0.17104718691467288]]</td>\n",
       "    </tr>\n",
       "    <tr>\n",
       "      <th>6495</th>\n",
       "      <td>2006</td>\n",
       "      <td>Monster House</td>\n",
       "      <td>American</td>\n",
       "      <td>Gil Kenan</td>\n",
       "      <td>Mitchel Musso, Sam Lerner, Spencer Locke, Stev...</td>\n",
       "      <td>animation</td>\n",
       "      <td>https://en.wikipedia.org/wiki/Monster_House_(f...</td>\n",
       "      <td>The parents of twelve-year-old DJ Walters leav...</td>\n",
       "      <td>(0, 45982)\\t0.02431132463363516\\n  (0, 45901...</td>\n",
       "      <td>[[0.1710384947830055]]</td>\n",
       "    </tr>\n",
       "    <tr>\n",
       "      <th>9327</th>\n",
       "      <td>2010</td>\n",
       "      <td>Animal Kingdom</td>\n",
       "      <td>Australian</td>\n",
       "      <td>David Michôd</td>\n",
       "      <td>Ben Mendelsohn, Joel Edgerton, Guy Pearce</td>\n",
       "      <td>unknown</td>\n",
       "      <td>https://en.wikipedia.org/wiki/Animal_Kingdom_(...</td>\n",
       "      <td>After his mother overdoses, 17-year-old Joshua...</td>\n",
       "      <td>(0, 45985)\\t0.06685882691966649\\n  (0, 45892...</td>\n",
       "      <td>[[0.1707509994864748]]</td>\n",
       "    </tr>\n",
       "    <tr>\n",
       "      <th>11432</th>\n",
       "      <td>2000</td>\n",
       "      <td>Left Behind: The Movie</td>\n",
       "      <td>Canadian</td>\n",
       "      <td>Vic Sarin</td>\n",
       "      <td>Kirk Cameron, Brad Johnson, Gordon Currie, Col...</td>\n",
       "      <td>religious drama</td>\n",
       "      <td>https://en.wikipedia.org/wiki/Left_Behind:_The...</td>\n",
       "      <td>GNN television journalist Cameron \"Buck\" Willi...</td>\n",
       "      <td>(0, 45983)\\t0.03673777843734081\\n  (0, 45901...</td>\n",
       "      <td>[[0.1655837061711744]]</td>\n",
       "    </tr>\n",
       "    <tr>\n",
       "      <th>6232</th>\n",
       "      <td>2005</td>\n",
       "      <td>Red Eye</td>\n",
       "      <td>American</td>\n",
       "      <td>Wes Craven</td>\n",
       "      <td>Rachel McAdams, Cillian Murphy</td>\n",
       "      <td>thriller</td>\n",
       "      <td>https://en.wikipedia.org/wiki/Red_Eye_(America...</td>\n",
       "      <td>After attending her grandmother's funeral in T...</td>\n",
       "      <td>(0, 45901)\\t0.0236675127107487\\n  (0, 45764)...</td>\n",
       "      <td>[[0.16536678275725333]]</td>\n",
       "    </tr>\n",
       "    <tr>\n",
       "      <th>6629</th>\n",
       "      <td>2007</td>\n",
       "      <td>Are We Done Yet?</td>\n",
       "      <td>American</td>\n",
       "      <td>Steve Carr</td>\n",
       "      <td>Ice Cube, Nia Long, John C. McGinley, Aleisha ...</td>\n",
       "      <td>comedy</td>\n",
       "      <td>https://en.wikipedia.org/wiki/Are_We_Done_Yet%3F</td>\n",
       "      <td>Following the events of Are We There Yet?, Nic...</td>\n",
       "      <td>(0, 45901)\\t0.046278126614504145\\n  (0, 4528...</td>\n",
       "      <td>[[0.16408605854914785]]</td>\n",
       "    </tr>\n",
       "    <tr>\n",
       "      <th>5241</th>\n",
       "      <td>2000</td>\n",
       "      <td>The Tigger Movie</td>\n",
       "      <td>American</td>\n",
       "      <td>Jun Falkenstein</td>\n",
       "      <td>Jim Cummings, Nikita Hopkins, John Fiedler</td>\n",
       "      <td>animation</td>\n",
       "      <td>https://en.wikipedia.org/wiki/The_Tigger_Movie</td>\n",
       "      <td>The beginning of the story is interrupted by T...</td>\n",
       "      <td>(0, 45946)\\t0.12345151359363202\\n  (0, 45914...</td>\n",
       "      <td>[[0.16407891185424267]]</td>\n",
       "    </tr>\n",
       "    <tr>\n",
       "      <th>3493</th>\n",
       "      <td>1993</td>\n",
       "      <td>The House of the Spirits</td>\n",
       "      <td>American</td>\n",
       "      <td>Bille August</td>\n",
       "      <td>Meryl Streep, Jeremy Irons, Glenn Close, Winon...</td>\n",
       "      <td>drama</td>\n",
       "      <td>https://en.wikipedia.org/wiki/The_House_of_the...</td>\n",
       "      <td>A young woman, Blanca Trueba (Winona Ryder), a...</td>\n",
       "      <td>(0, 46164)\\t0.06788626714697538\\n  (0, 45982...</td>\n",
       "      <td>[[0.16390215355428148]]</td>\n",
       "    </tr>\n",
       "    <tr>\n",
       "      <th>9618</th>\n",
       "      <td>1973</td>\n",
       "      <td>Scream... and Die!</td>\n",
       "      <td>British</td>\n",
       "      <td>José Ramón Larraz</td>\n",
       "      <td>Andrea Allan, Karl Lanchbury</td>\n",
       "      <td>horror</td>\n",
       "      <td>https://en.wikipedia.org/wiki/Scream..._and_Die!</td>\n",
       "      <td>London fashion model Valerie Jennings travels ...</td>\n",
       "      <td>(0, 45982)\\t0.03242992503290097\\n  (0, 45865...</td>\n",
       "      <td>[[0.1616475556136404]]</td>\n",
       "    </tr>\n",
       "    <tr>\n",
       "      <th>5763</th>\n",
       "      <td>2003</td>\n",
       "      <td>House of Sand and Fog</td>\n",
       "      <td>American</td>\n",
       "      <td>Vadim Perelman</td>\n",
       "      <td>Jennifer Connelly, Ben Kingsley, Shohreh Agdas...</td>\n",
       "      <td>drama</td>\n",
       "      <td>https://en.wikipedia.org/wiki/House_of_Sand_an...</td>\n",
       "      <td>Abandoned by her husband, recovering drug addi...</td>\n",
       "      <td>(0, 45685)\\t0.046611611261239576\\n  (0, 4562...</td>\n",
       "      <td>[[0.16150133581161266]]</td>\n",
       "    </tr>\n",
       "    <tr>\n",
       "      <th>9607</th>\n",
       "      <td>1973</td>\n",
       "      <td>The Homecoming</td>\n",
       "      <td>British</td>\n",
       "      <td>Peter Hall</td>\n",
       "      <td>Cyril Cusack, Ian Holm</td>\n",
       "      <td>drama</td>\n",
       "      <td>https://en.wikipedia.org/wiki/The_Homecoming_(...</td>\n",
       "      <td>Teddy brings his wife home to meet his estrang...</td>\n",
       "      <td>(0, 45282)\\t0.31796268216009027\\n  (0, 25434...</td>\n",
       "      <td>[[0.16129301865523327]]</td>\n",
       "    </tr>\n",
       "    <tr>\n",
       "      <th>10531</th>\n",
       "      <td>2010</td>\n",
       "      <td>West Is West</td>\n",
       "      <td>British</td>\n",
       "      <td>Andy DeEmmony</td>\n",
       "      <td>Aqib Khan, Om Puri, Linda Bassett, Robert Pugh</td>\n",
       "      <td>comedy drama</td>\n",
       "      <td>https://en.wikipedia.org/wiki/West_Is_West_(20...</td>\n",
       "      <td>The film is set in the year 1976, five years a...</td>\n",
       "      <td>(0, 45985)\\t0.06993333786294449\\n  (0, 45901...</td>\n",
       "      <td>[[0.16101562701668448]]</td>\n",
       "    </tr>\n",
       "  </tbody>\n",
       "</table>\n",
       "</div>"
      ],
      "text/plain": [
       "       Release_Year                           Title Origin_Ethnicity  \\\n",
       "2913           1990                      Home Alone         American   \n",
       "3294           1992  Home Alone 2: Lost in New York         American   \n",
       "5740           2003        The Fighting Temptations         American   \n",
       "2318           1987         Sorority House Massacre         American   \n",
       "10707          2012                 Song for Marion          British   \n",
       "3055           1991               The Addams Family         American   \n",
       "7794           2012                    Joyful Noise         American   \n",
       "8461           2015                  Monkey Kingdom         American   \n",
       "6082           2005           The Amityville Horror         American   \n",
       "6495           2006                   Monster House         American   \n",
       "9327           2010                  Animal Kingdom       Australian   \n",
       "11432          2000          Left Behind: The Movie         Canadian   \n",
       "6232           2005                         Red Eye         American   \n",
       "6629           2007                Are We Done Yet?         American   \n",
       "5241           2000                The Tigger Movie         American   \n",
       "3493           1993        The House of the Spirits         American   \n",
       "9618           1973              Scream... and Die!          British   \n",
       "5763           2003           House of Sand and Fog         American   \n",
       "9607           1973                  The Homecoming          British   \n",
       "10531          2010                    West Is West          British   \n",
       "\n",
       "                                 Director  \\\n",
       "2913                       Chris Columbus   \n",
       "3294                       Chris Columbus   \n",
       "5740                        Jonathan Lynn   \n",
       "2318                          Carol Frank   \n",
       "10707      Director: Paul Andrew Williams   \n",
       "3055                     Barry Sonnenfeld   \n",
       "7794                           Todd Graff   \n",
       "8461   Mark Linfield Alastair Fothergill    \n",
       "6082                       Andrew Douglas   \n",
       "6495                            Gil Kenan   \n",
       "9327                         David Michôd   \n",
       "11432                           Vic Sarin   \n",
       "6232                           Wes Craven   \n",
       "6629                           Steve Carr   \n",
       "5241                      Jun Falkenstein   \n",
       "3493                         Bille August   \n",
       "9618                    José Ramón Larraz   \n",
       "5763                       Vadim Perelman   \n",
       "9607                           Peter Hall   \n",
       "10531                       Andy DeEmmony   \n",
       "\n",
       "                                                    Cast            Genre  \\\n",
       "2913   Macaulay Culkin, Joe Pesci, Daniel Stern, John...   comedy, family   \n",
       "3294            Macaulay Culkin, Joe Pesci, Daniel Stern           comedy   \n",
       "5740                  Cuba Gooding, Jr., Beyoncé Knowles  musical, comedy   \n",
       "2318                        Angela O'Neill, Wendy Martel          slasher   \n",
       "10707  Director: Paul Andrew Williams\\r\\nCast: Terenc...          unknown   \n",
       "3055   Anjelica Huston, Raúl Juliá, Christopher Lloyd...           comedy   \n",
       "7794   Queen Latifah, Dolly Parton, Keke Palmer, Jere...  comedy, musical   \n",
       "8461                                            Tina Fey      documentary   \n",
       "6082   Ryan Reynolds, Melissa George, Jesse James, Ji...           horror   \n",
       "6495   Mitchel Musso, Sam Lerner, Spencer Locke, Stev...        animation   \n",
       "9327           Ben Mendelsohn, Joel Edgerton, Guy Pearce          unknown   \n",
       "11432  Kirk Cameron, Brad Johnson, Gordon Currie, Col...  religious drama   \n",
       "6232                      Rachel McAdams, Cillian Murphy         thriller   \n",
       "6629   Ice Cube, Nia Long, John C. McGinley, Aleisha ...           comedy   \n",
       "5241          Jim Cummings, Nikita Hopkins, John Fiedler        animation   \n",
       "3493   Meryl Streep, Jeremy Irons, Glenn Close, Winon...            drama   \n",
       "9618                        Andrea Allan, Karl Lanchbury           horror   \n",
       "5763   Jennifer Connelly, Ben Kingsley, Shohreh Agdas...            drama   \n",
       "9607                              Cyril Cusack, Ian Holm            drama   \n",
       "10531     Aqib Khan, Om Puri, Linda Bassett, Robert Pugh     comedy drama   \n",
       "\n",
       "                                               Wiki_Page  \\\n",
       "2913            https://en.wikipedia.org/wiki/Home_Alone   \n",
       "3294   https://en.wikipedia.org/wiki/Home_Alone_2:_Lo...   \n",
       "5740   https://en.wikipedia.org/wiki/The_Fighting_Tem...   \n",
       "2318   https://en.wikipedia.org/wiki/Sorority_House_M...   \n",
       "10707      https://en.wikipedia.org/wiki/Song_for_Marion   \n",
       "3055   https://en.wikipedia.org/wiki/The_Addams_Famil...   \n",
       "7794   https://en.wikipedia.org/wiki/Joyful_Noise_(film)   \n",
       "8461        https://en.wikipedia.org/wiki/Monkey_Kingdom   \n",
       "6082   https://en.wikipedia.org/wiki/The_Amityville_H...   \n",
       "6495   https://en.wikipedia.org/wiki/Monster_House_(f...   \n",
       "9327   https://en.wikipedia.org/wiki/Animal_Kingdom_(...   \n",
       "11432  https://en.wikipedia.org/wiki/Left_Behind:_The...   \n",
       "6232   https://en.wikipedia.org/wiki/Red_Eye_(America...   \n",
       "6629    https://en.wikipedia.org/wiki/Are_We_Done_Yet%3F   \n",
       "5241      https://en.wikipedia.org/wiki/The_Tigger_Movie   \n",
       "3493   https://en.wikipedia.org/wiki/The_House_of_the...   \n",
       "9618    https://en.wikipedia.org/wiki/Scream..._and_Die!   \n",
       "5763   https://en.wikipedia.org/wiki/House_of_Sand_an...   \n",
       "9607   https://en.wikipedia.org/wiki/The_Homecoming_(...   \n",
       "10531  https://en.wikipedia.org/wiki/West_Is_West_(20...   \n",
       "\n",
       "                                                    Plot  \\\n",
       "2913   The McCallister family is preparing to spend C...   \n",
       "3294   In Chicago, the McCallister family is preparin...   \n",
       "5740   In the year 1980, a young boy named Darrin Hil...   \n",
       "2318   When Beth (Angela O'Neill) is a little girl, h...   \n",
       "10707  Arthur Harris is the grumpy husband of Marion,...   \n",
       "3055   Gomez Addams laments the 25-year absence of hi...   \n",
       "7794   After the untimely death of a small-town churc...   \n",
       "8461   Maya is a toque macaque whose world is changed...   \n",
       "6082   In 1974, Ronald DeFeo Jr. murdered his family ...   \n",
       "6495   The parents of twelve-year-old DJ Walters leav...   \n",
       "9327   After his mother overdoses, 17-year-old Joshua...   \n",
       "11432  GNN television journalist Cameron \"Buck\" Willi...   \n",
       "6232   After attending her grandmother's funeral in T...   \n",
       "6629   Following the events of Are We There Yet?, Nic...   \n",
       "5241   The beginning of the story is interrupted by T...   \n",
       "3493   A young woman, Blanca Trueba (Winona Ryder), a...   \n",
       "9618   London fashion model Valerie Jennings travels ...   \n",
       "5763   Abandoned by her husband, recovering drug addi...   \n",
       "9607   Teddy brings his wife home to meet his estrang...   \n",
       "10531  The film is set in the year 1976, five years a...   \n",
       "\n",
       "                                                  vector  \\\n",
       "2913     (0, 45985)\\t0.06866099428996186\\n  (0, 45892...   \n",
       "3294     (0, 45985)\\t0.0501963397889804\\n  (0, 45527)...   \n",
       "5740     (0, 45982)\\t0.014287647406734827\\n  (0, 4590...   \n",
       "2318     (0, 45983)\\t0.0497262938698472\\n  (0, 45901)...   \n",
       "10707    (0, 45982)\\t0.024556378539595948\\n  (0, 4493...   \n",
       "3055     (0, 45901)\\t0.026003663800794104\\n  (0, 4589...   \n",
       "7794     (0, 45982)\\t0.01572768581884033\\n  (0, 45901...   \n",
       "8461     (0, 45642)\\t0.07970125257120139\\n  (0, 45453...   \n",
       "6082     (0, 45892)\\t0.03297264626786979\\n  (0, 44932...   \n",
       "6495     (0, 45982)\\t0.02431132463363516\\n  (0, 45901...   \n",
       "9327     (0, 45985)\\t0.06685882691966649\\n  (0, 45892...   \n",
       "11432    (0, 45983)\\t0.03673777843734081\\n  (0, 45901...   \n",
       "6232     (0, 45901)\\t0.0236675127107487\\n  (0, 45764)...   \n",
       "6629     (0, 45901)\\t0.046278126614504145\\n  (0, 4528...   \n",
       "5241     (0, 45946)\\t0.12345151359363202\\n  (0, 45914...   \n",
       "3493     (0, 46164)\\t0.06788626714697538\\n  (0, 45982...   \n",
       "9618     (0, 45982)\\t0.03242992503290097\\n  (0, 45865...   \n",
       "5763     (0, 45685)\\t0.046611611261239576\\n  (0, 4562...   \n",
       "9607     (0, 45282)\\t0.31796268216009027\\n  (0, 25434...   \n",
       "10531    (0, 45985)\\t0.06993333786294449\\n  (0, 45901...   \n",
       "\n",
       "                    similarity  \n",
       "2913    [[1.0000000000000002]]  \n",
       "3294   [[0.20610985168003237]]  \n",
       "5740    [[0.1900843644244443]]  \n",
       "2318   [[0.18102913784163527]]  \n",
       "10707   [[0.1760573768701867]]  \n",
       "3055   [[0.17477861666273023]]  \n",
       "7794    [[0.1732335085322568]]  \n",
       "8461    [[0.1727374855569751]]  \n",
       "6082   [[0.17104718691467288]]  \n",
       "6495    [[0.1710384947830055]]  \n",
       "9327    [[0.1707509994864748]]  \n",
       "11432   [[0.1655837061711744]]  \n",
       "6232   [[0.16536678275725333]]  \n",
       "6629   [[0.16408605854914785]]  \n",
       "5241   [[0.16407891185424267]]  \n",
       "3493   [[0.16390215355428148]]  \n",
       "9618    [[0.1616475556136404]]  \n",
       "5763   [[0.16150133581161266]]  \n",
       "9607   [[0.16129301865523327]]  \n",
       "10531  [[0.16101562701668448]]  "
      ]
     },
     "execution_count": 71,
     "metadata": {},
     "output_type": "execute_result"
    }
   ],
   "source": [
    "similarity_dataframe"
   ]
  },
  {
   "cell_type": "code",
   "execution_count": null,
   "metadata": {},
   "outputs": [],
   "source": []
  },
  {
   "cell_type": "code",
   "execution_count": null,
   "metadata": {},
   "outputs": [],
   "source": [
    "vector_index = 89\n",
    "vector_to_test = updated_df['vector'].iloc[vector_index]\n",
    "max_cosine = 0.0\n",
    "new_index = 0\n",
    "\n",
    "for index, row in updated_df.iterrows():\n",
    "    similarity = compare_texts(row['vector'], vector_to_test)\n",
    "    if index == vector_index:\n",
    "        continue\n",
    "    if similarity > max_cosine:\n",
    "        max_cosine = similarity\n",
    "        new_index = index"
   ]
  },
  {
   "cell_type": "code",
   "execution_count": null,
   "metadata": {},
   "outputs": [],
   "source": [
    "new_index"
   ]
  },
  {
   "cell_type": "code",
   "execution_count": null,
   "metadata": {},
   "outputs": [],
   "source": [
    "updated_df.iloc[new_index]"
   ]
  },
  {
   "cell_type": "code",
   "execution_count": null,
   "metadata": {},
   "outputs": [],
   "source": [
    "# custom vector\n",
    "custom_plot = \"Child is left home alone during Christmas. Thieves break into his house as his parents are not home and he has to defend himself.\"\n",
    "vector_custom = vectoriser.transform([custom_plot])"
   ]
  },
  {
   "cell_type": "code",
   "execution_count": null,
   "metadata": {},
   "outputs": [],
   "source": [
    "max_cosine = 0.0\n",
    "new_index = 0\n",
    "\n",
    "for index, row in updated_df.iterrows():\n",
    "    similarity = compare_texts(row['vector'], vector_custom)\n",
    "    \n",
    "    if similarity > max_cosine:\n",
    "        max_cosine = similarity\n",
    "        new_index = index"
   ]
  },
  {
   "cell_type": "code",
   "execution_count": null,
   "metadata": {},
   "outputs": [],
   "source": [
    "max_cosine"
   ]
  },
  {
   "cell_type": "code",
   "execution_count": null,
   "metadata": {},
   "outputs": [],
   "source": [
    "updated_df.iloc[new_index]"
   ]
  },
  {
   "cell_type": "code",
   "execution_count": null,
   "metadata": {},
   "outputs": [],
   "source": [
    "# 2. vectorise each text using tfidf and attach list of vectorised texts to dataframe\n",
    "# 3. input a given string (own plot) and vectorise using tfidf\n",
    "# 3. use a for loop to go through each text and get cosine similarity of given string to each text in the dataframe.\n",
    "# Return the most similar plot and its movie details"
   ]
  }
 ],
 "metadata": {
  "kernelspec": {
   "display_name": "Python 3",
   "language": "python",
   "name": "python3"
  },
  "language_info": {
   "codemirror_mode": {
    "name": "ipython",
    "version": 3
   },
   "file_extension": ".py",
   "mimetype": "text/x-python",
   "name": "python",
   "nbconvert_exporter": "python",
   "pygments_lexer": "ipython3",
   "version": "3.7.3"
  }
 },
 "nbformat": 4,
 "nbformat_minor": 2
}
